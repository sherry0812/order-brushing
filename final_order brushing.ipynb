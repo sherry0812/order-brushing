{
 "cells": [
  {
   "cell_type": "code",
   "execution_count": null,
   "metadata": {},
   "outputs": [],
   "source": []
  },
  {
   "cell_type": "markdown",
   "metadata": {},
   "source": [
    "### Import Libraries"
   ]
  },
  {
   "cell_type": "code",
   "execution_count": 1,
   "metadata": {},
   "outputs": [],
   "source": [
    "import pandas as pd\n",
    "import operator"
   ]
  },
  {
   "cell_type": "markdown",
   "metadata": {},
   "source": [
    "### Load Dataset"
   ]
  },
  {
   "cell_type": "code",
   "execution_count": 2,
   "metadata": {},
   "outputs": [
    {
     "data": {
      "text/html": [
       "<div>\n",
       "<style scoped>\n",
       "    .dataframe tbody tr th:only-of-type {\n",
       "        vertical-align: middle;\n",
       "    }\n",
       "\n",
       "    .dataframe tbody tr th {\n",
       "        vertical-align: top;\n",
       "    }\n",
       "\n",
       "    .dataframe thead th {\n",
       "        text-align: right;\n",
       "    }\n",
       "</style>\n",
       "<table border=\"1\" class=\"dataframe\">\n",
       "  <thead>\n",
       "    <tr style=\"text-align: right;\">\n",
       "      <th></th>\n",
       "      <th>orderid</th>\n",
       "      <th>shopid</th>\n",
       "      <th>userid</th>\n",
       "      <th>event_time</th>\n",
       "    </tr>\n",
       "  </thead>\n",
       "  <tbody>\n",
       "    <tr>\n",
       "      <th>0</th>\n",
       "      <td>31076582227611</td>\n",
       "      <td>93950878</td>\n",
       "      <td>30530270</td>\n",
       "      <td>2019-12-27 00:23:03</td>\n",
       "    </tr>\n",
       "    <tr>\n",
       "      <th>1</th>\n",
       "      <td>31118059853484</td>\n",
       "      <td>156423439</td>\n",
       "      <td>46057927</td>\n",
       "      <td>2019-12-27 11:54:20</td>\n",
       "    </tr>\n",
       "    <tr>\n",
       "      <th>2</th>\n",
       "      <td>31123355095755</td>\n",
       "      <td>173699291</td>\n",
       "      <td>67341739</td>\n",
       "      <td>2019-12-27 13:22:35</td>\n",
       "    </tr>\n",
       "    <tr>\n",
       "      <th>3</th>\n",
       "      <td>31122059872723</td>\n",
       "      <td>63674025</td>\n",
       "      <td>149380322</td>\n",
       "      <td>2019-12-27 13:01:00</td>\n",
       "    </tr>\n",
       "    <tr>\n",
       "      <th>4</th>\n",
       "      <td>31117075665123</td>\n",
       "      <td>127249066</td>\n",
       "      <td>149493217</td>\n",
       "      <td>2019-12-27 11:37:55</td>\n",
       "    </tr>\n",
       "  </tbody>\n",
       "</table>\n",
       "</div>"
      ],
      "text/plain": [
       "          orderid     shopid     userid           event_time\n",
       "0  31076582227611   93950878   30530270  2019-12-27 00:23:03\n",
       "1  31118059853484  156423439   46057927  2019-12-27 11:54:20\n",
       "2  31123355095755  173699291   67341739  2019-12-27 13:22:35\n",
       "3  31122059872723   63674025  149380322  2019-12-27 13:01:00\n",
       "4  31117075665123  127249066  149493217  2019-12-27 11:37:55"
      ]
     },
     "execution_count": 2,
     "metadata": {},
     "output_type": "execute_result"
    }
   ],
   "source": [
    "df = pd.read_csv('order_brush_order.csv')\n",
    "df.head()"
   ]
  },
  {
   "cell_type": "code",
   "execution_count": 3,
   "metadata": {},
   "outputs": [],
   "source": [
    "# Convert event_time to datetime\n",
    "df['event_time'] = pd.to_datetime(df['event_time'])\n",
    "# Convert userid to string to avoid userid.0 \n",
    "df['userid'] = df['userid'].apply(str)"
   ]
  },
  {
   "cell_type": "markdown",
   "metadata": {},
   "source": [
    "## Order Brushing"
   ]
  },
  {
   "cell_type": "code",
   "execution_count": 4,
   "metadata": {},
   "outputs": [],
   "source": [
    "def get_subset_shop(df, shopid):\n",
    "    '''\n",
    "    input: df, shopid\n",
    "    output: subset of df for shopid provided\n",
    "    '''\n",
    "    \n",
    "    df_shop = df[df.shopid == shopid]\n",
    "    df_shop = df_shop.sort_values(['event_time', 'userid'])\n",
    "    \n",
    "    return df_shop.reset_index(drop=True)"
   ]
  },
  {
   "cell_type": "code",
   "execution_count": 5,
   "metadata": {},
   "outputs": [],
   "source": [
    "def get_hour_marker(time_list):\n",
    "    '''\n",
    "    input: column for timestamp (sorted, ascending)\n",
    "    output: list, row number where delta time is or before 1hr mark\n",
    "    '''\n",
    "    \n",
    "    time_list = list(time_list)\n",
    "    num_rows = len(time_list)\n",
    "    index_marker = []\n",
    "    \n",
    "    for i in range(num_rows):\n",
    "        start_time = time_list[i]\n",
    "        \n",
    "        for j in range(i, num_rows):\n",
    "            end_time = time_list[j]\n",
    "            delta_time = end_time - start_time\n",
    "\n",
    "\n",
    "            if delta_time == pd.to_timedelta(1, unit='h'):\n",
    "                index_marker.append(j)\n",
    "                break\n",
    "                \n",
    "            elif delta_time > pd.to_timedelta(1, unit='h'):\n",
    "                index_marker.append(j-1)\n",
    "                break\n",
    "                \n",
    "            elif (delta_time < pd.to_timedelta(1, unit='h')) and (j == num_rows-1):\n",
    "                index_marker.append(j)\n",
    "            \n",
    "    return index_marker"
   ]
  },
  {
   "cell_type": "code",
   "execution_count": 6,
   "metadata": {},
   "outputs": [],
   "source": [
    "def get_brush_period(df, start, marker):\n",
    "    '''\n",
    "    input: df, start, end\n",
    "    output: subset of df subset shopid for a period\n",
    "    '''\n",
    "    return df.loc[start:marker]"
   ]
  },
  {
   "cell_type": "code",
   "execution_count": 7,
   "metadata": {},
   "outputs": [],
   "source": [
    "def get_suspicious_users(df_order_brushing):\n",
    "    '''\n",
    "    input: df with all the df with order brushing for specific shopid\n",
    "    output: suspicious user/s\n",
    "    '''\n",
    "    user_list = list(set(df_order_brushing['userid']))\n",
    "    user_prop = {}\n",
    "    total_orders = df_order_brushing.shape[0]\n",
    "    \n",
    "    for user in user_list:\n",
    "        user_count = df_order_brushing[df_order_brushing['userid'] == user].shape[0]\n",
    "        user_prop[user] = user_count/total_orders\n",
    "    \n",
    "    max_value = max(user_prop.values())\n",
    "    susp_user_list = []\n",
    "    \n",
    "    for user in user_list:\n",
    "        if user_prop[user] == max_value:\n",
    "            susp_user_list.append(user)\n",
    "\n",
    "    return '&'.join(str(user) for user in susp_user_list)"
   ]
  },
  {
   "cell_type": "code",
   "execution_count": 8,
   "metadata": {},
   "outputs": [],
   "source": [
    "# Get distinct shopid\n",
    "shop_list = list(set(df['shopid']))\n",
    "final_table = pd.DataFrame(shop_list)\n",
    "final_table.columns = ['shopid']"
   ]
  },
  {
   "cell_type": "code",
   "execution_count": 9,
   "metadata": {},
   "outputs": [],
   "source": [
    "# Master Loop\n",
    "shop_status = []\n",
    "suspicious_users = []\n",
    "\n",
    "for shop in shop_list:\n",
    "    df_shop = get_subset_shop(df, shop)\n",
    "    index_marker = get_hour_marker(df_shop['event_time'])\n",
    "\n",
    "    cr_list = []\n",
    "    df_order_brushing = pd.DataFrame({'orderid': [], 'shopid': [], 'userid': [], 'event_time': []})\n",
    "    \n",
    "    for i in range(len(index_marker)):\n",
    "        df_period = get_brush_period(df_shop, i, index_marker[i])\n",
    "        concentration_rate = df_period.shape[0]/df_period['userid'].nunique()\n",
    "        \n",
    "        if concentration_rate >= 3:\n",
    "            cr_list.append('OB')\n",
    "            df_order_brushing = df_order_brushing.append(df_period)\n",
    "            \n",
    "    if 'OB' in cr_list:\n",
    "        shop_status.append('OB')\n",
    "        users = get_suspicious_users(df_order_brushing)\n",
    "        suspicious_users.append(users)\n",
    "        \n",
    "    else:\n",
    "        shop_status.append('OK')\n",
    "        suspicious_users.append(0)"
   ]
  },
  {
   "cell_type": "code",
   "execution_count": 10,
   "metadata": {},
   "outputs": [],
   "source": [
    "# Add userid column:\n",
    "final_table['userid'] = suspicious_users"
   ]
  },
  {
   "cell_type": "code",
   "execution_count": 12,
   "metadata": {},
   "outputs": [],
   "source": [
    "final_table.to_csv('submission.csv')"
   ]
  },
  {
   "cell_type": "markdown",
   "metadata": {},
   "source": [
    "-----------------------"
   ]
  }
 ],
 "metadata": {
  "kernelspec": {
   "display_name": "Python 3",
   "language": "python",
   "name": "python3"
  },
  "language_info": {
   "codemirror_mode": {
    "name": "ipython",
    "version": 3
   },
   "file_extension": ".py",
   "mimetype": "text/x-python",
   "name": "python",
   "nbconvert_exporter": "python",
   "pygments_lexer": "ipython3",
   "version": "3.7.1"
  }
 },
 "nbformat": 4,
 "nbformat_minor": 2
}
